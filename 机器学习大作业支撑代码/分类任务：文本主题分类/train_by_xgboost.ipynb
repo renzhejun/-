{
 "cells": [
  {
   "cell_type": "code",
   "execution_count": 1,
   "metadata": {},
   "outputs": [],
   "source": [
    "from sklearn.model_selection import train_test_split\n",
    "from xgboost.sklearn import XGBClassifier\n",
    "from sklearn.model_selection import GridSearchCV\n",
    "import pickle\n",
    "import numpy as np"
   ]
  },
  {
   "cell_type": "markdown",
   "metadata": {},
   "source": [
    "## 导入词嵌入模型 "
   ]
  },
  {
   "cell_type": "code",
   "execution_count": 6,
   "metadata": {},
   "outputs": [],
   "source": [
    "with open('./embedding_models/bitcoin_jieba.pkl', 'rb') as fr:\n",
    "    data = pickle.load(fr)\n",
    "    bitcoin_jieba_embeddings = data['embeddings']\n",
    "with open('./embedding_models/sohu_jieba.pkl', 'rb') as fr:\n",
    "    data = pickle.load(fr)\n",
    "    sohu_jieba_embeddings = data['embeddings']\n"
   ]
  },
  {
   "cell_type": "markdown",
   "metadata": {},
   "source": [
    "## 指定主题的向量打上1标签，随机主题的0标签 "
   ]
  },
  {
   "cell_type": "code",
   "execution_count": 7,
   "metadata": {},
   "outputs": [],
   "source": [
    "X = []\n",
    "Y = []\n",
    "for b in bitcoin_jieba_embeddings:\n",
    "    X.append(bitcoin_jieba_embeddings[b])\n",
    "    Y.append('1')\n",
    "for s in sohu_jieba_embeddings:\n",
    "    X.append(sohu_jieba_embeddings[s])\n",
    "    Y.append('0')\n",
    "X, Y = np.array(X), np.array(Y)"
   ]
  },
  {
   "cell_type": "markdown",
   "metadata": {},
   "source": [
    "## 不调参数，直接训练 "
   ]
  },
  {
   "cell_type": "code",
   "execution_count": 9,
   "metadata": {},
   "outputs": [
    {
     "data": {
      "text/plain": [
       "XGBClassifier(base_score=0.5, booster=None, colsample_bylevel=1,\n",
       "              colsample_bynode=1, colsample_bytree=1, gamma=0, gpu_id=-1,\n",
       "              importance_type='gain', interaction_constraints=None,\n",
       "              learning_rate=0.300000012, max_delta_step=0, max_depth=6,\n",
       "              min_child_weight=1, missing=nan, monotone_constraints=None,\n",
       "              n_estimators=100, n_jobs=0, num_parallel_tree=1,\n",
       "              objective='binary:logistic', random_state=0, reg_alpha=0,\n",
       "              reg_lambda=1, scale_pos_weight=1, subsample=1, tree_method=None,\n",
       "              validate_parameters=False, verbosity=None)"
      ]
     },
     "execution_count": 9,
     "metadata": {},
     "output_type": "execute_result"
    }
   ],
   "source": [
    "(X_train, X_test, Y_train, Y_test) = train_test_split(X, Y, train_size=0.7, random_state=0)\n",
    "model = XGBClassifier()\n",
    "model.fit(X_train, Y_train)"
   ]
  },
  {
   "cell_type": "code",
   "execution_count": 10,
   "metadata": {
    "tags": []
   },
   "outputs": [
    {
     "name": "stdout",
     "output_type": "stream",
     "text": [
      "0.7260046602189665\n",
      "0.7521545090797168\n"
     ]
    }
   ],
   "source": [
    "Y_train_pred = model.predict(X_train)\n",
    "train_is_match = [ int(i==j) for i in Y_train for j in Y_train_pred ]\n",
    "print(sum(train_is_match)/len(train_is_match))\n",
    "\n",
    "Y_test_pred = model.predict(X_test)\n",
    "test_is_match = [ int(i==j) for i in Y_test for j in Y_test_pred ]\n",
    "print(sum(test_is_match)/len(test_is_match))"
   ]
  },
  {
   "cell_type": "markdown",
   "metadata": {},
   "source": [
    "## 调参数后训练 (过程已省略) "
   ]
  },
  {
   "cell_type": "code",
   "execution_count": 13,
   "metadata": {},
   "outputs": [
    {
     "data": {
      "text/plain": [
       "XGBClassifier(base_score=0.5, booster=None, colsample_bylevel=1,\n",
       "              colsample_bynode=1, colsample_bytree=0.6, gamma=0, gpu_id=-1,\n",
       "              importance_type='gain', interaction_constraints=None,\n",
       "              learning_rate=0.05, max_delta_step=2, max_depth=4,\n",
       "              min_child_weight=1, missing=nan, monotone_constraints=None,\n",
       "              n_estimators=840, n_jobs=4, nthread=4, num_parallel_tree=1,\n",
       "              objective='binary:logistic', random_state=27, reg_alpha=0,\n",
       "              reg_lambda=1, scale_pos_weight=0.001, seed=27, subsample=0.6,\n",
       "              tree_method=None, validate_parameters=False, verbosity=None)"
      ]
     },
     "execution_count": 13,
     "metadata": {},
     "output_type": "execute_result"
    }
   ],
   "source": [
    "(X_train, X_test, Y_train, Y_test) = train_test_split(X, Y, train_size=0.7, random_state=0)\n",
    "model = XGBClassifier(\n",
    "    learning_rate =0.05,\n",
    "    n_estimators=840,\n",
    "    max_depth=4,\n",
    "    min_child_weight=1,\n",
    "    subsample=0.6,\n",
    "    colsample_bytree=0.6,\n",
    "    nthread=4,\n",
    "    scale_pos_weight=0.001,\n",
    "    seed=27,\n",
    "    max_delta_step=2\n",
    ")\n",
    "model.fit(X_train, Y_train)"
   ]
  },
  {
   "cell_type": "code",
   "execution_count": 14,
   "metadata": {
    "tags": []
   },
   "outputs": [
    {
     "name": "stdout",
     "output_type": "stream",
     "text": [
      "0.8361581920903954\n",
      "0.8304093567251462\n"
     ]
    }
   ],
   "source": [
    "Y_train_pred = model.predict(X_train)\n",
    "train_is_match = [ int(i==j) for i in Y_train for j in Y_train_pred ]\n",
    "print(sum(train_is_match)/len(train_is_match))\n",
    "\n",
    "Y_test_pred = model.predict(X_test)\n",
    "test_is_match = [ int(i==j) for i in Y_test for j in Y_test_pred ]\n",
    "print(sum(test_is_match)/len(test_is_match))"
   ]
  },
  {
   "cell_type": "code",
   "execution_count": null,
   "metadata": {},
   "outputs": [],
   "source": []
  }
 ],
 "metadata": {
  "kernelspec": {
   "display_name": "Python 3.7.4 64-bit ('base': conda)",
   "language": "python",
   "name": "python37464bitbaseconda3386f78e19634c73bcc6c22103b81dbd"
  },
  "language_info": {
   "codemirror_mode": {
    "name": "ipython",
    "version": 3
   },
   "file_extension": ".py",
   "mimetype": "text/x-python",
   "name": "python",
   "nbconvert_exporter": "python",
   "pygments_lexer": "ipython3",
   "version": "3.7.4"
  }
 },
 "nbformat": 4,
 "nbformat_minor": 2
}
