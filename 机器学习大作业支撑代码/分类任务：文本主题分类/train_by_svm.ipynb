{
 "cells": [
  {
   "cell_type": "code",
   "execution_count": 9,
   "metadata": {},
   "outputs": [],
   "source": [
    "from sklearn.svm import SVC\n",
    "from sklearn.model_selection import train_test_split\n",
    "import pickle\n",
    "import numpy as np"
   ]
  },
  {
   "cell_type": "code",
   "execution_count": 4,
   "metadata": {},
   "outputs": [],
   "source": [
    "with open('bitcoin_jieba.pkl', 'rb') as fr:\n",
    "    data = pickle.load(fr)\n",
    "    bitcoin_jieba_embeddings = data['embeddings']\n",
    "with open('sohu_jieba.pkl', 'rb') as fr:\n",
    "    data = pickle.load(fr)\n",
    "    sohu_jieba_embeddings = data['embeddings']"
   ]
  },
  {
   "cell_type": "code",
   "execution_count": 7,
   "metadata": {},
   "outputs": [],
   "source": [
    "X = []\n",
    "Y = []\n",
    "for b in bitcoin_jieba_embeddings:\n",
    "    X.append(bitcoin_jieba_embeddings[b])\n",
    "    Y.append('1')\n",
    "for s in sohu_jieba_embeddings:\n",
    "    X.append(sohu_jieba_embeddings[s])\n",
    "    Y.append('0')\n",
    "X, Y = np.array(X), np.array(Y)"
   ]
  },
  {
   "cell_type": "code",
   "execution_count": 10,
   "metadata": {},
   "outputs": [
    {
     "data": {
      "text/plain": [
       "SVC(C=1.0, cache_size=200, class_weight=None, coef0=0.0,\n",
       "    decision_function_shape='ovr', degree=3, gamma='auto_deprecated',\n",
       "    kernel='rbf', max_iter=-1, probability=False, random_state=None,\n",
       "    shrinking=True, tol=0.001, verbose=False)"
      ]
     },
     "execution_count": 10,
     "metadata": {},
     "output_type": "execute_result"
    }
   ],
   "source": [
    "(X_train, X_test, Y_train, Y_test) = train_test_split(X, Y, train_size=0.7, random_state=0)\n",
    "model = SVC()\n",
    "model.fit(X_train, Y_train)"
   ]
  },
  {
   "cell_type": "code",
   "execution_count": 11,
   "metadata": {},
   "outputs": [
    {
     "name": "stdout",
     "output_type": "stream",
     "text": [
      "0.7225072726928027\n",
      "0.7019176536943035\n"
     ]
    }
   ],
   "source": [
    "Y_train_pred = model.predict(X_train)\n",
    "train_is_match = [ int(i==j) for i in Y_train for j in Y_train_pred ]\n",
    "print(sum(train_is_match)/len(train_is_match))\n",
    "\n",
    "Y_test_pred = model.predict(X_test)\n",
    "test_is_match = [ int(i==j) for i in Y_test for j in Y_test_pred ]\n",
    "print(sum(test_is_match)/len(test_is_match))"
   ]
  },
  {
   "cell_type": "code",
   "execution_count": null,
   "metadata": {},
   "outputs": [],
   "source": []
  }
 ],
 "metadata": {
  "kernelspec": {
   "display_name": "Python 3.7.4 64-bit ('base': conda)",
   "language": "python",
   "name": "python37464bitbaseconda3386f78e19634c73bcc6c22103b81dbd"
  },
  "language_info": {
   "codemirror_mode": {
    "name": "ipython",
    "version": 3
   },
   "file_extension": ".py",
   "mimetype": "text/x-python",
   "name": "python",
   "nbconvert_exporter": "python",
   "pygments_lexer": "ipython3",
   "version": "3.7.4"
  }
 },
 "nbformat": 4,
 "nbformat_minor": 2
}
